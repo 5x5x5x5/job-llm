{
 "cells": [
  {
   "cell_type": "code",
   "execution_count": 12,
   "metadata": {},
   "outputs": [],
   "source": [
    "import sys\n",
    "import openai\n",
    "sys.path.append('../../')\n",
    "\n",
    "from job_llm import config\n",
    "from job_llm.utils.llm_models import ChatGPT, Llama2\n",
    "from job_llm.utils.data_extraction import get_link_content"
   ]
  },
  {
   "cell_type": "code",
   "execution_count": 10,
   "metadata": {},
   "outputs": [],
   "source": [
    "system_prompt = open(\"../prompts/job-detail-extractor.txt\").read().strip()\n",
    "web_content_prompt = get_link_content(\"https://www.linkedin.com/jobs/view/3749167580\")"
   ]
  },
  {
   "cell_type": "markdown",
   "metadata": {},
   "source": [
    "## Open AI Chat GPT"
   ]
  },
  {
   "cell_type": "markdown",
   "metadata": {},
   "source": []
  },
  {
   "cell_type": "code",
   "execution_count": 11,
   "metadata": {},
   "outputs": [
    {
     "ename": "AttributeError",
     "evalue": "module 'job_llm.config' has no attribute 'OPENAI_API_KEY'",
     "output_type": "error",
     "traceback": [
      "\u001b[1;31m---------------------------------------------------------------------------\u001b[0m",
      "\u001b[1;31mAttributeError\u001b[0m                            Traceback (most recent call last)",
      "\u001b[1;32md:\\study-code-repeat\\coding\\DV\\job-llm\\job_llm\\notebooks\\pratice.ipynb Cell 4\u001b[0m line \u001b[0;36m1\n\u001b[1;32m----> <a href='vscode-notebook-cell:/d%3A/study-code-repeat/coding/DV/job-llm/job_llm/notebooks/pratice.ipynb#W3sZmlsZQ%3D%3D?line=0'>1</a>\u001b[0m chat_gpt \u001b[39m=\u001b[39m ChatGPT(openai_api_key\u001b[39m=\u001b[39mconfig\u001b[39m.\u001b[39;49mOPENAI_API_KEY, system_prompt\u001b[39m=\u001b[39msystem_prompt)\n\u001b[0;32m      <a href='vscode-notebook-cell:/d%3A/study-code-repeat/coding/DV/job-llm/job_llm/notebooks/pratice.ipynb#W3sZmlsZQ%3D%3D?line=1'>2</a>\u001b[0m \u001b[39m# print(chat_gpt.get_response(web_content_prompt))\u001b[39;00m\n",
      "\u001b[1;31mAttributeError\u001b[0m: module 'job_llm.config' has no attribute 'OPENAI_API_KEY'"
     ]
    }
   ],
   "source": [
    "chat_gpt = ChatGPT(openai_api_key=config.OPENAI_API_KEY, system_prompt=system_prompt)\n",
    "# print(chat_gpt.get_response(web_content_prompt))"
   ]
  },
  {
   "cell_type": "markdown",
   "metadata": {},
   "source": [
    "## LLama 2"
   ]
  },
  {
   "cell_type": "code",
   "execution_count": 4,
   "metadata": {},
   "outputs": [],
   "source": [
    "# RUN IN COLAB\n",
    "# !pip install sentencepiece==0.1.99\n",
    "# !pip install transformers==4.31.0\n",
    "# !pip install accelerate==0.21.0\n",
    "# !pip install bitsandbytes==0.41.1\n",
    "\n",
    "# llama2 = Llama2(hf_token=config.HF_TOKEN, system_prompt=system_prompt)"
   ]
  }
 ],
 "metadata": {
  "kernelspec": {
   "display_name": "job-llm-dN246vVn-py3.10",
   "language": "python",
   "name": "python3"
  },
  "language_info": {
   "codemirror_mode": {
    "name": "ipython",
    "version": 3
   },
   "file_extension": ".py",
   "mimetype": "text/x-python",
   "name": "python",
   "nbconvert_exporter": "python",
   "pygments_lexer": "ipython3",
   "version": "3.9.1"
  }
 },
 "nbformat": 4,
 "nbformat_minor": 2
}
