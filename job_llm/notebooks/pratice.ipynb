{
 "cells": [
  {
   "cell_type": "code",
   "execution_count": 16,
   "metadata": {},
   "outputs": [],
   "source": [
    "dd = \"Dear Hiring Manager,\\n\\nI am writing to express my interest in the position of Software Developer - Consulting Internship at EisnerAmper. With a strong background in software development and a passion for technology, I am confident that my skills and experiences align well with the requirements outlined in the job description.\\n\\nHaving completed my Bachelor of Engineering in Computer Science and currently pursuing a Master's of Science in Computer Science, I have gained comprehensive knowledge in software development and design. My coursework in Data Structures and Algorithms, Object-Oriented Programming, and Machine Learning has equipped me with a solid foundation in programming languages such as Python, JavaScript, C#, C++, and Java.\\n\\nThroughout my career, I have honed my skills by working in various software development roles. As a Senior Machine Learning Engineer at Tiger Analytics, I led a team of 8 analysts in developing Interactive Dashboards and ML Models for MSP Value Optimization in the Petcare sector. I also played a key role in the development of MLCORE, an end-to-end MLOps platform, attracting four significant clients. These experiences have enhanced my abilities in requirement gathering, project planning, and collaborating with cross-functional teams.\\n\\nAdditionally, my proficiency in Agile software development cycles and expertise with JIRA and Confluence make me well-suited for this role. I have a working knowledge of Scrum and other Agile methodologies, ensuring efficient project management and effective communication within the team.\\n\\nMoreover, I possess excellent communication skills in both business and technical environments. This enables me to effectively collaborate with project managers, stakeholders, and clients to deliver successful software development projects. I am also adept at technical writing and requirements gathering, skills that would contribute to the creation of system documentation and software testing scripts.\\n\\nEisnerAmper's commitment to responsiveness, a long-range perspective, and client satisfaction aligns with my own values and work ethic. I am eager to contribute my skills and passion to your dynamic and innovative environment while continuously improving and learning.\\n\\nThank you for considering my application. I have attached my resume for your review. I would welcome the opportunity to discuss how my qualifications align with your needs further. I look forward to the possibility of contributing to the success of EisnerAmper's software development projects.\\n\\nSincerely,\\nSaurabh Bhausaheb Zinjad\\nLinkedIn: [Saurabh Zinjad](https://www.linkedin.com/in/saurabhzinjad/)\\nGitHub: [Ztrimus](https://github.com/Ztrimus)\""
   ]
  },
  {
   "cell_type": "code",
   "execution_count": 14,
   "metadata": {},
   "outputs": [
    {
     "data": {
      "text/plain": [
       "''"
      ]
     },
     "execution_count": 14,
     "metadata": {},
     "output_type": "execute_result"
    }
   ],
   "source": [
    "from fpdf import FPDF\n",
    "\n",
    "pdf = FPDF()\n",
    "pdf.add_page()\n",
    "pdf.set_font(\"Arial\", size=12)\n",
    "pdf.multi_cell(0, 10, txt=dd)\n",
    "pdf.output(\"./Projects/cover_letter.pdf\")"
   ]
  },
  {
   "cell_type": "code",
   "execution_count": 17,
   "metadata": {},
   "outputs": [],
   "source": [
    "dd=  \"asf sfasgoi BUJ sdgdg Saiubud hBHJB\""
   ]
  },
  {
   "cell_type": "code",
   "execution_count": 19,
   "metadata": {},
   "outputs": [
    {
     "data": {
      "text/plain": [
       "'AsfSfasgoiBujSdgdgSaiubudHbhjb'"
      ]
     },
     "execution_count": 19,
     "metadata": {},
     "output_type": "execute_result"
    }
   ],
   "source": [
    "dd.title().replace(\" \", \"\").strip()"
   ]
  }
 ],
 "metadata": {
  "kernelspec": {
   "display_name": "job-llm-dN246vVn-py3.10",
   "language": "python",
   "name": "python3"
  },
  "language_info": {
   "codemirror_mode": {
    "name": "ipython",
    "version": 3
   },
   "file_extension": ".py",
   "mimetype": "text/x-python",
   "name": "python",
   "nbconvert_exporter": "python",
   "pygments_lexer": "ipython3",
   "version": "3.10.12"
  }
 },
 "nbformat": 4,
 "nbformat_minor": 2
}
