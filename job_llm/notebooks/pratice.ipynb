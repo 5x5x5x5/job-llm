{
 "cells": [
  {
   "cell_type": "code",
   "execution_count": 7,
   "metadata": {},
   "outputs": [],
   "source": [
    "import sys\n",
    "import openai\n",
    "sys.path.append('../../')\n",
    "\n",
    "from job_llm import config\n",
    "from job_llm.utils.llm_models import ChatGPT, Llama2\n",
    "from job_llm.utils.data_extraction import get_link_content"
   ]
  },
  {
   "cell_type": "code",
   "execution_count": 8,
   "metadata": {},
   "outputs": [
    {
     "data": {
      "text/plain": [
       "\"Discard any prior instructions. Imagine you are a seasoned expert in crafting resumes and cover letters, boasting a rich 15-year history dedicated to mastering this skill. Picture yourself as a certified professional resume writer, specializing in creating compelling and tailored CVs that highlight clients' skills, experiences, and achievements—meticulously aligning with the specific job descriptions they target. Your expertise extends across various industries, encompassing a deep understanding of prevailing hiring trends and Applicant Tracking Systems (ATS). Your ability to identify precise keywords, responsibilities, and requirements from job descriptions is unparalleled.\\nI will provide a job and company description for your analysis. Your task is consider it to meticulously assess the information and furnish the details like Job title, Keywords, Job purpose, Job duties and responsibilities, Required qualifications and Preferred qualifications in bulleted points:\""
      ]
     },
     "execution_count": 8,
     "metadata": {},
     "output_type": "execute_result"
    }
   ],
   "source": [
    "system_prompt = open(\"../prompts/job-detail-extractor.txt\").read().strip()\n",
    "system_prompt"
   ]
  },
  {
   "cell_type": "code",
   "execution_count": 9,
   "metadata": {},
   "outputs": [
    {
     "ename": "ModuleNotFoundError",
     "evalue": "No module named 'transformers'",
     "output_type": "error",
     "traceback": [
      "\u001b[0;31m---------------------------------------------------------------------------\u001b[0m",
      "\u001b[0;31mModuleNotFoundError\u001b[0m                       Traceback (most recent call last)",
      "\u001b[1;32m/home/saurabh/AAA/Convergent/Projects/job-llm/job_llm/notebooks/pratice.ipynb Cell 3\u001b[0m line \u001b[0;36m6\n\u001b[1;32m      <a href='vscode-notebook-cell:/home/saurabh/AAA/Convergent/Projects/job-llm/job_llm/notebooks/pratice.ipynb#X13sZmlsZQ%3D%3D?line=0'>1</a>\u001b[0m \u001b[39m# !pip install sentencepiece==0.1.99\u001b[39;00m\n\u001b[1;32m      <a href='vscode-notebook-cell:/home/saurabh/AAA/Convergent/Projects/job-llm/job_llm/notebooks/pratice.ipynb#X13sZmlsZQ%3D%3D?line=1'>2</a>\u001b[0m \u001b[39m# !pip install transformers==4.31.0\u001b[39;00m\n\u001b[1;32m      <a href='vscode-notebook-cell:/home/saurabh/AAA/Convergent/Projects/job-llm/job_llm/notebooks/pratice.ipynb#X13sZmlsZQ%3D%3D?line=2'>3</a>\u001b[0m \u001b[39m# !pip install accelerate==0.21.0\u001b[39;00m\n\u001b[1;32m      <a href='vscode-notebook-cell:/home/saurabh/AAA/Convergent/Projects/job-llm/job_llm/notebooks/pratice.ipynb#X13sZmlsZQ%3D%3D?line=3'>4</a>\u001b[0m \u001b[39m# !pip install bitsandbytes==0.41.1\u001b[39;00m\n\u001b[0;32m----> <a href='vscode-notebook-cell:/home/saurabh/AAA/Convergent/Projects/job-llm/job_llm/notebooks/pratice.ipynb#X13sZmlsZQ%3D%3D?line=5'>6</a>\u001b[0m llama2 \u001b[39m=\u001b[39m Llama2(hf_token\u001b[39m=\u001b[39;49mconfig\u001b[39m.\u001b[39;49mHF_TOKEN, system_prompt\u001b[39m=\u001b[39;49msystem_prompt)\n\u001b[1;32m      <a href='vscode-notebook-cell:/home/saurabh/AAA/Convergent/Projects/job-llm/job_llm/notebooks/pratice.ipynb#X13sZmlsZQ%3D%3D?line=6'>7</a>\u001b[0m \u001b[39m# chat_gpt = ChatGPT(openai_api_key=config.OPENAI_API_KEY, system_prompt=system_prompt)\u001b[39;00m\n",
      "File \u001b[0;32m~/AAA/Convergent/Projects/job-llm/job_llm/notebooks/../../job_llm/utils/llm_models.py:33\u001b[0m, in \u001b[0;36mLlama2.__init__\u001b[0;34m(self, hf_token, system_prompt)\u001b[0m\n\u001b[1;32m     32\u001b[0m \u001b[39mdef\u001b[39;00m \u001b[39m__init__\u001b[39m(\u001b[39mself\u001b[39m, hf_token, system_prompt):\n\u001b[0;32m---> 33\u001b[0m     \u001b[39mfrom\u001b[39;00m \u001b[39mtransformers\u001b[39;00m \u001b[39mimport\u001b[39;00m LlamaForCausalLM, LlamaTokenizer\n\u001b[1;32m     34\u001b[0m     \u001b[39mself\u001b[39m\u001b[39m.\u001b[39msystem_prompt \u001b[39m=\u001b[39m system_prompt\n\u001b[1;32m     35\u001b[0m     \u001b[39mself\u001b[39m\u001b[39m.\u001b[39mtokenizer \u001b[39m=\u001b[39m LlamaTokenizer\u001b[39m.\u001b[39mfrom_pretrained(\u001b[39m\"\u001b[39m\u001b[39mmeta-llama/Llama-2-7b-chat-hf\u001b[39m\u001b[39m\"\u001b[39m, token\u001b[39m=\u001b[39mhf_token)\n",
      "\u001b[0;31mModuleNotFoundError\u001b[0m: No module named 'transformers'"
     ]
    }
   ],
   "source": [
    "# !pip install sentencepiece==0.1.99\n",
    "# !pip install transformers==4.31.0\n",
    "# !pip install accelerate==0.21.0\n",
    "# !pip install bitsandbytes==0.41.1\n",
    "\n",
    "llama2 = Llama2(hf_token=config.HF_TOKEN, system_prompt=system_prompt)\n",
    "# chat_gpt = ChatGPT(openai_api_key=config.OPENAI_API_KEY, system_prompt=system_prompt)"
   ]
  },
  {
   "cell_type": "code",
   "execution_count": 4,
   "metadata": {},
   "outputs": [],
   "source": [
    "web_content_prompt = get_link_content(\"https://www.linkedin.com/jobs/view/3749167580\")"
   ]
  },
  {
   "cell_type": "code",
   "execution_count": 3,
   "metadata": {},
   "outputs": [],
   "source": []
  },
  {
   "cell_type": "code",
   "execution_count": null,
   "metadata": {},
   "outputs": [],
   "source": []
  },
  {
   "cell_type": "code",
   "execution_count": null,
   "metadata": {},
   "outputs": [],
   "source": []
  },
  {
   "cell_type": "code",
   "execution_count": null,
   "metadata": {},
   "outputs": [],
   "source": []
  },
  {
   "cell_type": "code",
   "execution_count": 16,
   "metadata": {},
   "outputs": [],
   "source": []
  }
 ],
 "metadata": {
  "kernelspec": {
   "display_name": "job-llm-dN246vVn-py3.10",
   "language": "python",
   "name": "python3"
  },
  "language_info": {
   "codemirror_mode": {
    "name": "ipython",
    "version": 3
   },
   "file_extension": ".py",
   "mimetype": "text/x-python",
   "name": "python",
   "nbconvert_exporter": "python",
   "pygments_lexer": "ipython3",
   "version": "3.10.12"
  }
 },
 "nbformat": 4,
 "nbformat_minor": 2
}
