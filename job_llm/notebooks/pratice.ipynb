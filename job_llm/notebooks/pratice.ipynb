{
 "cells": [
  {
   "cell_type": "code",
   "execution_count": 4,
   "metadata": {},
   "outputs": [],
   "source": [
    "import sys\n",
    "import openai\n",
    "sys.path.append('../../')\n",
    "\n",
    "from job_llm import config\n",
    "from job_llm.utils.llm_models import ChatGPT, Llama2\n",
    "from job_llm.utils.data_extraction import get_link_content"
   ]
  },
  {
   "cell_type": "code",
   "execution_count": 5,
   "metadata": {},
   "outputs": [],
   "source": [
    "system_prompt = open(\"../prompts/job-detail-extractor.txt\").read().strip()\n",
    "web_content_prompt = get_link_content(\"https://www.linkedin.com/jobs/view/3749167580\")"
   ]
  },
  {
   "cell_type": "markdown",
   "metadata": {},
   "source": [
    "## Open AI Chat GPT"
   ]
  },
  {
   "cell_type": "code",
   "execution_count": 3,
   "metadata": {},
   "outputs": [],
   "source": [
    "chat_gpt = ChatGPT(openai_api_key=config.OPENAI_API_KEY, system_prompt=system_prompt)\n",
    "# print(chat_gpt.get_response(web_content_prompt))"
   ]
  },
  {
   "cell_type": "markdown",
   "metadata": {},
   "source": [
    "## LLama 2"
   ]
  },
  {
   "cell_type": "code",
   "execution_count": 4,
   "metadata": {},
   "outputs": [],
   "source": [
    "# RUN IN COLAB\n",
    "# !pip install sentencepiece==0.1.99\n",
    "# !pip install transformers==4.31.0\n",
    "# !pip install accelerate==0.21.0\n",
    "# !pip install bitsandbytes==0.41.1\n",
    "\n",
    "# llama2 = Llama2(hf_token=config.HF_TOKEN, system_prompt=system_prompt)"
   ]
  }
 ],
 "metadata": {
  "kernelspec": {
   "display_name": "job-llm-dN246vVn-py3.10",
   "language": "python",
   "name": "python3"
  },
  "language_info": {
   "codemirror_mode": {
    "name": "ipython",
    "version": 3
   },
   "file_extension": ".py",
   "mimetype": "text/x-python",
   "name": "python",
   "nbconvert_exporter": "python",
   "pygments_lexer": "ipython3",
   "version": "3.10.12"
  }
 },
 "nbformat": 4,
 "nbformat_minor": 2
}
